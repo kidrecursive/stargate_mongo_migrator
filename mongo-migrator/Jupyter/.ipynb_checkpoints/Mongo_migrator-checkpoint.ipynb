{
 "cells": [
  {
   "cell_type": "code",
   "execution_count": 8,
   "metadata": {},
   "outputs": [],
   "source": [
    "from pymongo import MongoClient\n",
    "from pprint import pprint\n",
    "import uuid\n",
    "import requests\n",
    "import json  "
   ]
  },
  {
   "cell_type": "code",
   "execution_count": 24,
   "metadata": {},
   "outputs": [
    {
     "name": "stdout",
     "output_type": "stream",
     "text": [
      "{'_id': ObjectId('5f84d15b4472b78f9faae7f8'), 'id': 10748, 'type': 'airline', 'name': 'Locair', 'iata': 'ZQ', 'icao': 'LOC', 'callsign': 'LOCAIR', 'country': 'United States'}\n",
      "{'_id': ObjectId('5f84d15b4472b78f9faae7f9'), 'id': 10765, 'type': 'airline', 'name': 'SeaPort Airlines', 'iata': 'K5', 'icao': 'SQH', 'callsign': 'SASQUATCH', 'country': 'United States'}\n",
      "{'_id': ObjectId('5f84d15b4472b78f9faae7fa'), 'id': 109, 'type': 'airline', 'name': 'Alaska Central Express', 'iata': 'KO', 'icao': 'AER', 'callsign': 'ACE AIR', 'country': 'United States'}\n",
      "{'_id': ObjectId('5f84d15b4472b78f9faae7fb'), 'id': 109, 'type': 'airline', 'name': 'Alaska Central Express', 'iata': 'KO', 'icao': 'AER', 'callsign': 'ACE AIR', 'country': 'United States'}\n",
      "{'_id': ObjectId('5f84d15b4472b78f9faae7fc'), 'id': 112, 'type': 'airline', 'name': 'Astraeus', 'iata': '5W', 'icao': 'AEU', 'callsign': 'FLYSTAR', 'country': 'United Kingdom'}\n",
      "{'_id': ObjectId('5f84d15b4472b78f9faae7fd'), 'id': 1191, 'type': 'airline', 'name': 'Air Austral', 'iata': 'UU', 'icao': 'REU', 'callsign': 'REUNION', 'country': 'France'}\n",
      "{'_id': ObjectId('5f84d15b4472b78f9faae7fe'), 'id': 1203, 'type': 'airline', 'name': 'Airlinair', 'iata': 'A5', 'icao': 'RLA', 'callsign': 'AIRLINAIR', 'country': 'France'}\n"
     ]
    }
   ],
   "source": [
    "client = MongoClient(host='34.227.105.4:27017',serverSelectionTimeoutMS = 3000)\n",
    "mydb = client[\"stargatedb\"]\n",
    "aircol = mydb[\"airline\"]\n",
    "for x in aircol.find():\n",
    "    print(x)"
   ]
  },
  {
   "cell_type": "code",
   "execution_count": null,
   "metadata": {},
   "outputs": [],
   "source": [
    "url = \"https://c72c60e1-d1c1-4730-8d6a-413abce921ff-us-east-1.apps.astra.datastax.com/api/rest/v1/auth\"\n",
    "\n",
    "payload = {\n",
    "    \"username\": \"mongo_migrator\",\n",
    "    \"password\": \"mongo_migrator\"\n",
    "}\n",
    "headers = {\n",
    "    \"accept\": \"*/*\",\n",
    "    \"x-cassandra-request-id\": \"134\",\n",
    "    \"content-type\": \"application/json\"\n",
    "}\n",
    "\n",
    "response = requests.request(\"POST\", url, json=payload, headers=headers)\n",
    "\n",
    "print(response.text)"
   ]
  },
  {
   "cell_type": "code",
   "execution_count": 78,
   "metadata": {},
   "outputs": [
    {
     "name": "stdout",
     "output_type": "stream",
     "text": [
      "'Unable to create schema for collection'\n",
      "'{\"documentId\":\"ea863207-e8f5-4c2b-a9dd-972b85a433d0\"}'\n",
      "'{\"documentId\":\"b1f01d8c-58e3-4198-a10c-594082c33204\"}'\n",
      "'{\"documentId\":\"fe1d0584-766b-4f67-a1c9-d383f7ca82ea\"}'\n",
      "'{\"documentId\":\"0e884f7c-837f-4c93-9d73-b795e89e8127\"}'\n",
      "'{\"documentId\":\"21788f68-316a-4045-a9ad-f4d8f2fd7fcf\"}'\n",
      "'{\"documentId\":\"e4a712d3-f6a5-430c-94c1-45dd882c316c\"}'\n"
     ]
    }
   ],
   "source": [
    "headers = {\n",
    "    \"x-cassandra-token\": \"6d509f24-e5e9-435b-80f7-ca4f4b64772c\",\n",
    "    \"content-type\": \"application/json\"\n",
    "}\n",
    "\n",
    "URL = \"https://c72c60e1-d1c1-4730-8d6a-413abce921ff-us-east-1.apps.astra.datastax.com\"\n",
    "COLLECTION = \"mongo_airlines\"\n",
    "\n",
    "for data in aircol.find({}):\n",
    "    data.pop('_id')\n",
    "    AIRLINE_ID = str(uuid.uuid4())\n",
    "    DOC_ROOT_PATH = f\"/api/rest/v2/namespaces/{NAMESPACE}/collections/{COLLECTION}/{AIRLINE_ID}\"\n",
    "    PUTTURL = URL+DOC_ROOT_PATH\n",
    "    response = requests.request(\"PUT\", PUTTURL, data=json.dumps(data), headers=headers)\n",
    "    pprint(response.text)"
   ]
  },
  {
   "cell_type": "code",
   "execution_count": 87,
   "metadata": {},
   "outputs": [
    {
     "name": "stdout",
     "output_type": "stream",
     "text": [
      "('{\"documentId\":\"0e884f7c-837f-4c93-9d73-b795e89e8127\",\"data\":{\"callsign\":\"FLYSTAR\",\"country\":\"United '\n",
      " 'Kingdom\",\"iata\":\"5W\",\"icao\":\"AEU\",\"id\":112,\"name\":\"Astraeus\",\"type\":\"airline\"}}')\n"
     ]
    }
   ],
   "source": [
    "GET = f\"/api/rest/v2/namespaces/{NAMESPACE}/collections/{COLLECTION}/0e884f7c-837f-4c93-9d73-b795e89e8127\"\n",
    "GETTURL = URL+GET\n",
    "response = requests.request(\"GET\", GETTURL, headers=headers)\n",
    "pprint(response.text)"
   ]
  },
  {
   "cell_type": "code",
   "execution_count": null,
   "metadata": {},
   "outputs": [],
   "source": [
    "for data in aircol.find({}):\n",
    "    data"
   ]
  },
  {
   "cell_type": "code",
   "execution_count": null,
   "metadata": {},
   "outputs": [],
   "source": []
  }
 ],
 "metadata": {
  "kernelspec": {
   "display_name": "Python 3",
   "language": "python",
   "name": "python3"
  },
  "language_info": {
   "codemirror_mode": {
    "name": "ipython",
    "version": 3
   },
   "file_extension": ".py",
   "mimetype": "text/x-python",
   "name": "python",
   "nbconvert_exporter": "python",
   "pygments_lexer": "ipython3",
   "version": "3.7.4"
  }
 },
 "nbformat": 4,
 "nbformat_minor": 4
}
