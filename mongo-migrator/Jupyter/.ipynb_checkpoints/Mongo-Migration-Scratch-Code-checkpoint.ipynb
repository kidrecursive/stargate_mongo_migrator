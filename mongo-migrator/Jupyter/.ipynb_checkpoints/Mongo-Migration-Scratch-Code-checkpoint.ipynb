{
 "cells": [
  {
   "cell_type": "code",
   "execution_count": 7,
   "metadata": {},
   "outputs": [],
   "source": [
    "from pymongo import MongoClient\n",
    "from pprint import pprint\n",
    "import uuid"
   ]
  },
  {
   "cell_type": "code",
   "execution_count": 8,
   "metadata": {},
   "outputs": [],
   "source": [
    "client = MongoClient(host='34.227.105.4:27017',serverSelectionTimeoutMS = 3000)"
   ]
  },
  {
   "cell_type": "code",
   "execution_count": 9,
   "metadata": {},
   "outputs": [
    {
     "name": "stdout",
     "output_type": "stream",
     "text": [
      "['admin', 'config', 'local', 'stargatedb']\n"
     ]
    }
   ],
   "source": [
    "print(client.list_database_names())"
   ]
  },
  {
   "cell_type": "code",
   "execution_count": 10,
   "metadata": {},
   "outputs": [
    {
     "ename": "NameError",
     "evalue": "name 'mydb' is not defined",
     "output_type": "error",
     "traceback": [
      "\u001b[0;31m---------------------------------------------------------------------------\u001b[0m",
      "\u001b[0;31mNameError\u001b[0m                                 Traceback (most recent call last)",
      "\u001b[0;32m<ipython-input-10-8b3915e5315c>\u001b[0m in \u001b[0;36m<module>\u001b[0;34m\u001b[0m\n\u001b[0;32m----> 1\u001b[0;31m \u001b[0mprint\u001b[0m\u001b[0;34m(\u001b[0m\u001b[0mmydb\u001b[0m\u001b[0;34m.\u001b[0m\u001b[0mlist_collection_names\u001b[0m\u001b[0;34m(\u001b[0m\u001b[0;34m)\u001b[0m\u001b[0;34m)\u001b[0m\u001b[0;34m\u001b[0m\u001b[0;34m\u001b[0m\u001b[0m\n\u001b[0m",
      "\u001b[0;31mNameError\u001b[0m: name 'mydb' is not defined"
     ]
    }
   ],
   "source": [
    "print(mydb.list_collection_names())"
   ]
  },
  {
   "cell_type": "code",
   "execution_count": 11,
   "metadata": {},
   "outputs": [],
   "source": [
    "mydb = client[\"stargatedb\"]\n",
    "mycol = mydb[\"myCollection\"]"
   ]
  },
  {
   "cell_type": "code",
   "execution_count": null,
   "metadata": {},
   "outputs": [],
   "source": [
    "for x in mycol.find():\n",
    "    print(x)"
   ]
  },
  {
   "cell_type": "code",
   "execution_count": null,
   "metadata": {},
   "outputs": [],
   "source": [
    "mylist = [\n",
    "  {\"id\":10,\"type\":\"airline\",\"name\":\"40-Mile Air\",\"iata\":\"Q5\",\"icao\":\"MLA\",\"callsign\":\"MILE-AIR\",\"country\":\"United States\"},\n",
    "  {\"id\":10123,\"type\":\"airline\",\"name\":\"Texas Wings\",\"iata\":\"TQ\",\"icao\":\"TXW\",\"callsign\":\"TXW\",\"country\":\"United States\"},\n",
    "  {\"id\":10226,\"type\":\"airline\",\"name\":\"Atifly\",\"iata\":\"A1\",\"icao\":\"A1F\",\"callsign\":\"atifly\",\"country\":\"United States\"},\n",
    "  {\"id\":10642,\"type\":\"airline\",\"name\":\"Jc royal.britannica\",\"iata\":\"\",\"icao\":\"JRB\",\"callsign\":\"\",\"country\":\"United Kingdom\"},\n",
    "  {\"id\":10748,\"type\":\"airline\",\"name\":\"Locair\",\"iata\":\"ZQ\",\"icao\":\"LOC\",\"callsign\":\"LOCAIR\",\"country\":\"United States\"},\n",
    "  {\"id\":10765,\"type\":\"airline\",\"name\":\"SeaPort Airlines\",\"iata\":\"K5\",\"icao\":\"SQH\",\"callsign\":\"SASQUATCH\",\"country\":\"United States\"},\n",
    "  {\"id\":109,\"type\":\"airline\",\"name\":\"Alaska Central Express\",\"iata\":\"KO\",\"icao\":\"AER\",\"callsign\":\"ACE AIR\",\"country\":\"United States\"},\n",
    "  {\"id\":109,\"type\":\"airline\",\"name\":\"Alaska Central Express\",\"iata\":\"KO\",\"icao\":\"AER\",\"callsign\":\"ACE AIR\",\"country\":\"United States\"},\n",
    "  {\"id\":112,\"type\":\"airline\",\"name\":\"Astraeus\",\"iata\":\"5W\",\"icao\":\"AEU\",\"callsign\":\"FLYSTAR\",\"country\":\"United Kingdom\"},\n",
    "  {\"id\":1191,\"type\":\"airline\",\"name\":\"Air Austral\",\"iata\":\"UU\",\"icao\":\"REU\",\"callsign\":\"REUNION\",\"country\":\"France\"},\n",
    "  {\"id\":1203,\"type\":\"airline\",\"name\":\"Airlinair\",\"iata\":\"A5\",\"icao\":\"RLA\",\"callsign\":\"AIRLINAIR\",\"country\":\"France\"},\n",
    "  {\"id\":1355,\"type\":\"airline\",\"name\":\"British Airways\",\"iata\":\"BA\",\"icao\":\"BAW\",\"callsign\":\"SPEEDBIRD\",\"country\":\"United Kingdom\"}\n",
    "]"
   ]
  },
  {
   "cell_type": "code",
   "execution_count": 12,
   "metadata": {},
   "outputs": [],
   "source": [
    "aircol = mydb['airline']"
   ]
  },
  {
   "cell_type": "code",
   "execution_count": null,
   "metadata": {},
   "outputs": [],
   "source": [
    "x = aircol.insert_many(mylist)"
   ]
  },
  {
   "cell_type": "code",
   "execution_count": 22,
   "metadata": {},
   "outputs": [
    {
     "name": "stdout",
     "output_type": "stream",
     "text": [
      "{'_id': ObjectId('5f84d15b4472b78f9faae7f8'), 'id': 10748, 'type': 'airline', 'name': 'Locair', 'iata': 'ZQ', 'icao': 'LOC', 'callsign': 'LOCAIR', 'country': 'United States'}\n",
      "{'_id': ObjectId('5f84d15b4472b78f9faae7f9'), 'id': 10765, 'type': 'airline', 'name': 'SeaPort Airlines', 'iata': 'K5', 'icao': 'SQH', 'callsign': 'SASQUATCH', 'country': 'United States'}\n",
      "{'_id': ObjectId('5f84d15b4472b78f9faae7fa'), 'id': 109, 'type': 'airline', 'name': 'Alaska Central Express', 'iata': 'KO', 'icao': 'AER', 'callsign': 'ACE AIR', 'country': 'United States'}\n",
      "{'_id': ObjectId('5f84d15b4472b78f9faae7fb'), 'id': 109, 'type': 'airline', 'name': 'Alaska Central Express', 'iata': 'KO', 'icao': 'AER', 'callsign': 'ACE AIR', 'country': 'United States'}\n",
      "{'_id': ObjectId('5f84d15b4472b78f9faae7fc'), 'id': 112, 'type': 'airline', 'name': 'Astraeus', 'iata': '5W', 'icao': 'AEU', 'callsign': 'FLYSTAR', 'country': 'United Kingdom'}\n",
      "{'_id': ObjectId('5f84d15b4472b78f9faae7fd'), 'id': 1191, 'type': 'airline', 'name': 'Air Austral', 'iata': 'UU', 'icao': 'REU', 'callsign': 'REUNION', 'country': 'France'}\n",
      "{'_id': ObjectId('5f84d15b4472b78f9faae7fe'), 'id': 1203, 'type': 'airline', 'name': 'Airlinair', 'iata': 'A5', 'icao': 'RLA', 'callsign': 'AIRLINAIR', 'country': 'France'}\n"
     ]
    }
   ],
   "source": [
    "for x in aircol.find():\n",
    "    print(x)"
   ]
  },
  {
   "cell_type": "code",
   "execution_count": 20,
   "metadata": {},
   "outputs": [
    {
     "name": "stdout",
     "output_type": "stream",
     "text": [
      "{\"authToken\":\"95d2cb62-c09e-46c8-8bab-5a7a0c7faa7f\"}\n"
     ]
    }
   ],
   "source": [
    "import requests\n",
    "\n",
    "url = \"https://c72c60e1-d1c1-4730-8d6a-413abce921ff-us-east-1.apps.astra.datastax.com/api/rest/v1/auth\"\n",
    "\n",
    "payload = {\n",
    "    \"username\": \"mongo_migrator\",\n",
    "    \"password\": \"mongo_migrator\"\n",
    "}\n",
    "headers = {\n",
    "    \"accept\": \"*/*\",\n",
    "    \"x-cassandra-request-id\": \"134\",\n",
    "    \"content-type\": \"application/json\"\n",
    "}\n",
    "\n",
    "response = requests.request(\"POST\", url, json=payload, headers=headers)\n",
    "\n",
    "print(response.text)"
   ]
  },
  {
   "cell_type": "code",
   "execution_count": null,
   "metadata": {},
   "outputs": [],
   "source": [
    "#{\"id\",\"type\"\"name\",\"iata\",\"icao\",\"callsign\",\"country\"}"
   ]
  },
  {
   "cell_type": "code",
   "execution_count": 14,
   "metadata": {},
   "outputs": [
    {
     "name": "stdout",
     "output_type": "stream",
     "text": [
      "Undefined column name key\n",
      "Undefined column name key\n",
      "Undefined column name key\n",
      "Undefined column name key\n",
      "Undefined column name key\n",
      "Undefined column name key\n",
      "Undefined column name key\n",
      "Undefined column name key\n",
      "Undefined column name key\n",
      "Undefined column name key\n",
      "Undefined column name key\n"
     ]
    }
   ],
   "source": [
    "posturl = \"https://c72c60e1-d1c1-4730-8d6a-413abce921ff-us-east-1.apps.astra.datastax.com/api/rest/v2/namespaces/mongo_migrator/collections/airline/12\"\n",
    "headers = {\n",
    "    \"accept\": \"application/json\",\n",
    "    \"x-cassandra-token\": \"b96131ae-cd7f-4675-b1bb-d2d186eb90c7\",\n",
    "    \"x-cassandra-request-id\": '1',\n",
    "    \"content-type\": \"application/json\"\n",
    "}\n",
    "for x in aircol.find({}):\n",
    "    payload = {\"columns\": [\n",
    "        {\n",
    "            \"name\": \"id\",\n",
    "            \"value\": x['id']\n",
    "        },\n",
    "        {\n",
    "            \"name\": \"type\",\n",
    "            \"value\": x['type']\n",
    "        },\n",
    "        {\n",
    "            \"name\": \"name\",\n",
    "            \"value\": x['name']\n",
    "        },\n",
    "        {\n",
    "            \"name\": \"iata\",\n",
    "            \"value\": x['iata']\n",
    "        },\n",
    "        {\n",
    "            \"name\": \"icao\",\n",
    "            \"value\": x['icao']\n",
    "        },\n",
    "        {\n",
    "            \"name\": \"callsign\",\n",
    "            \"value\": x['callsign']\n",
    "        },\n",
    "        {\n",
    "            \"name\": \"country\",\n",
    "            \"value\": x['country']\n",
    "        }\n",
    "    ]}\n",
    "    response = requests.request(\"POST\", posturl, json=payload, headers=headers)\n",
    "    print(response.text)"
   ]
  },
  {
   "cell_type": "code",
   "execution_count": 2,
   "metadata": {},
   "outputs": [],
   "source": [
    "data = {'id': 10, 'type': 'airline', 'name': '40-Mile Air', 'iata': 'Q5', 'icao': 'MLA', 'callsign': 'MILE-AIR', 'country': 'United States'}"
   ]
  },
  {
   "cell_type": "code",
   "execution_count": 21,
   "metadata": {},
   "outputs": [
    {
     "name": "stdout",
     "output_type": "stream",
     "text": [
      "{\"code\":404,\"message\":\"HTTP 404 Not Found\"}\n"
     ]
    }
   ],
   "source": [
    "posturl = \"https://c72c60e1-d1c1-4730-8d6a-413abce921ff-us-east-1.apps.astra.datastax.com/api/rest/v2/namespaces/mongo-migrator/collections/airline1/12\"\n",
    "headers = {\n",
    "    \"accept\": \"application/json\",\n",
    "    \"x-cassandra-token\": \"b96131ae-cd7f-4675-b1bb-d2d186eb90c7\",\n",
    "    \"x-cassandra-request-id\": '12',\n",
    "    \"content-type\": \"application/json\"\n",
    "}\n",
    "response = requests.request(\"POST\", posturl, json=data1, headers=headers)\n",
    "print(response.text)"
   ]
  },
  {
   "cell_type": "code",
   "execution_count": 4,
   "metadata": {},
   "outputs": [],
   "source": [
    "data1 = {\n",
    "  \"title\": \"Hello World\",\n",
    "  \"author\": {\n",
    "    \"name\": \"CRW\",\n",
    "    \"social\": {\n",
    "      \"foo-bar-789\": {\n",
    "        \"followers\": 1,\n",
    "        \"likes\": 7\n",
    "      }\n",
    "    }\n",
    "  }\n",
    "}"
   ]
  },
  {
   "cell_type": "code",
   "execution_count": null,
   "metadata": {},
   "outputs": [],
   "source": [
    "data1"
   ]
  },
  {
   "cell_type": "code",
   "execution_count": null,
   "metadata": {},
   "outputs": [],
   "source": []
  }
 ],
 "metadata": {
  "kernelspec": {
   "display_name": "Python 3",
   "language": "python",
   "name": "python3"
  },
  "language_info": {
   "codemirror_mode": {
    "name": "ipython",
    "version": 3
   },
   "file_extension": ".py",
   "mimetype": "text/x-python",
   "name": "python",
   "nbconvert_exporter": "python",
   "pygments_lexer": "ipython3",
   "version": "3.7.4"
  }
 },
 "nbformat": 4,
 "nbformat_minor": 4
}
