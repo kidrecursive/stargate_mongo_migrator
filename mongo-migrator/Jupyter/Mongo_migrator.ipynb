{
 "cells": [
  {
   "cell_type": "code",
   "execution_count": 2,
   "metadata": {},
   "outputs": [],
   "source": [
    "from pymongo import MongoClient\n",
    "from pprint import pprint\n",
    "import uuid\n",
    "import requests\n",
    "import json"
   ]
  },
  {
   "cell_type": "code",
   "execution_count": 6,
   "metadata": {},
   "outputs": [
    {
     "name": "stdout",
     "output_type": "stream",
     "text": [
      "{'_id': ObjectId('5f85c824512add3976c183ac'), 'id': 10, 'type': 'airline', 'name': '40-Mile Air', 'iata': 'Q5', 'icao': 'MLA', 'callsign': 'MILE-AIR', 'country': 'United States'}\n",
      "{'_id': ObjectId('5f85c824512add3976c183ad'), 'id': 10123, 'type': 'airline', 'name': 'Texas Wings', 'iata': 'TQ', 'icao': 'TXW', 'callsign': 'TXW', 'country': 'United States'}\n",
      "{'_id': ObjectId('5f85c824512add3976c183ae'), 'id': 10226, 'type': 'airline', 'name': 'Atifly', 'iata': 'A1', 'icao': 'A1F', 'callsign': 'atifly', 'country': 'United States'}\n",
      "{'_id': ObjectId('5f85c824512add3976c183af'), 'id': 10642, 'type': 'airline', 'name': 'Jc royal.britannica', 'iata': '', 'icao': 'JRB', 'callsign': '', 'country': 'United Kingdom'}\n",
      "{'_id': ObjectId('5f85c824512add3976c183b0'), 'id': 10748, 'type': 'airline', 'name': 'Locair', 'iata': 'ZQ', 'icao': 'LOC', 'callsign': 'LOCAIR', 'country': 'United States'}\n",
      "{'_id': ObjectId('5f85c824512add3976c183b1'), 'id': 10765, 'type': 'airline', 'name': 'SeaPort Airlines', 'iata': 'K5', 'icao': 'SQH', 'callsign': 'SASQUATCH', 'country': 'United States'}\n",
      "{'_id': ObjectId('5f85c824512add3976c183b2'), 'id': 109, 'type': 'airline', 'name': 'Alaska Central Express', 'iata': 'KO', 'icao': 'AER', 'callsign': 'ACE AIR', 'country': 'United States'}\n",
      "{'_id': ObjectId('5f85c824512add3976c183b3'), 'id': 109, 'type': 'airline', 'name': 'Alaska Central Express', 'iata': 'KO', 'icao': 'AER', 'callsign': 'ACE AIR', 'country': 'United States'}\n",
      "{'_id': ObjectId('5f85c824512add3976c183b4'), 'id': 112, 'type': 'airline', 'name': 'Astraeus', 'iata': '5W', 'icao': 'AEU', 'callsign': 'FLYSTAR', 'country': 'United Kingdom'}\n",
      "{'_id': ObjectId('5f85c824512add3976c183b5'), 'id': 1191, 'type': 'airline', 'name': 'Air Austral', 'iata': 'UU', 'icao': 'REU', 'callsign': 'REUNION', 'country': 'France'}\n",
      "{'_id': ObjectId('5f85c824512add3976c183b6'), 'id': 1203, 'type': 'airline', 'name': 'Airlinair', 'iata': 'A5', 'icao': 'RLA', 'callsign': 'AIRLINAIR', 'country': 'France'}\n",
      "{'_id': ObjectId('5f85c824512add3976c183b7'), 'id': 1355, 'type': 'airline', 'name': 'British Airways', 'iata': 'BA', 'icao': 'BAW', 'callsign': 'SPEEDBIRD', 'country': 'United Kingdom'}\n",
      "{'_id': ObjectId('5f85c824512add3976c183b8'), 'id': 13633, 'type': 'airline', 'name': 'PanAm World Airways', 'iata': 'WQ', 'icao': 'PQW', 'callsign': '', 'country': 'United States'}\n",
      "{'_id': ObjectId('5f85c824512add3976c183b9'), 'id': 137, 'type': 'airline', 'name': 'Air France', 'iata': 'AF', 'icao': 'AFR', 'callsign': 'AIRFRANS', 'country': 'France'}\n"
     ]
    }
   ],
   "source": [
    "client = MongoClient(host='34.227.105.4:27017',serverSelectionTimeoutMS = 3000)\n",
    "mydb = client[\"stargatedb\"]\n",
    "aircol = mydb[\"airline\"]\n",
    "for x in aircol.find():\n",
    "    print(x)"
   ]
  },
  {
   "cell_type": "code",
   "execution_count": 4,
   "metadata": {},
   "outputs": [
    {
     "name": "stdout",
     "output_type": "stream",
     "text": [
      "{\"authToken\":\"dbe36dbf-8d9c-4c65-8a5d-184afc09b51f\"}\n"
     ]
    }
   ],
   "source": [
    "url = \"https://c72c60e1-d1c1-4730-8d6a-413abce921ff-us-east-1.apps.astra.datastax.com/api/rest/v1/auth\"\n",
    "\n",
    "payload = {\n",
    "    \"username\": \"mongo_migrator\",\n",
    "    \"password\": \"mongo_migrator\"\n",
    "}\n",
    "headers = {\n",
    "    \"accept\": \"*/*\",\n",
    "    \"x-cassandra-request-id\": \"134\",\n",
    "    \"content-type\": \"application/json\"\n",
    "}\n",
    "\n",
    "response = requests.request(\"POST\", url, json=payload, headers=headers)\n",
    "\n",
    "print(response.text)"
   ]
  },
  {
   "cell_type": "code",
   "execution_count": 9,
   "metadata": {},
   "outputs": [
    {
     "name": "stdout",
     "output_type": "stream",
     "text": [
      "'Unable to create schema for collection'\n",
      "'{\"documentId\":\"11a3a23c-4129-409a-92da-d49e99166a08\"}'\n",
      "'{\"documentId\":\"d59d7f5c-2724-496b-87a7-54b79aa9a5a8\"}'\n",
      "'{\"documentId\":\"b674248f-bde2-4c0d-b7bb-20134eb73c3d\"}'\n",
      "'{\"documentId\":\"510c756f-e328-453f-b0f1-2ffb50ad453a\"}'\n",
      "'{\"documentId\":\"1abd854d-3639-4957-a63b-e164e68df0f7\"}'\n",
      "'{\"documentId\":\"7f8630bc-f8f2-420f-8fc9-c2e493198588\"}'\n",
      "'{\"documentId\":\"8ce44ac8-a845-419f-94e1-4b866972a887\"}'\n",
      "'{\"documentId\":\"a2bf7509-0d5f-4ad0-bd7f-bd19a5eaa30e\"}'\n",
      "'{\"documentId\":\"aaf277d1-9f52-4164-be90-1111b8602267\"}'\n",
      "'{\"documentId\":\"ff3be73d-69cb-4d96-a30d-25f0d67ea874\"}'\n",
      "'{\"documentId\":\"9e209121-7eae-4abc-b67d-2467f9fa6ac9\"}'\n",
      "'{\"documentId\":\"fec45c52-51f9-4792-99be-1b9856b0e7bb\"}'\n",
      "'{\"documentId\":\"95dd7646-58e5-4633-a47b-153d5470e84e\"}'\n"
     ]
    }
   ],
   "source": [
    "headers = {\n",
    "    \"x-cassandra-token\": \"dbe36dbf-8d9c-4c65-8a5d-184afc09b51f\",\n",
    "    \"content-type\": \"application/json\"\n",
    "}\n",
    "\n",
    "URL = \"https://c72c60e1-d1c1-4730-8d6a-413abce921ff-us-east-1.apps.astra.datastax.com\"\n",
    "COLLECTION = \"dj_airlines\"\n",
    "NAMESPACE = \"mongo_migrator\"\n",
    "\n",
    "for data in aircol.find():\n",
    "    data.pop('_id')\n",
    "    AIRLINE_ID = str(uuid.uuid4())\n",
    "    DOC_ROOT_PATH = f\"/api/rest/v2/namespaces/{NAMESPACE}/collections/{COLLECTION}/{AIRLINE_ID}\"\n",
    "    PUTTURL = URL+DOC_ROOT_PATH\n",
    "    response = requests.request(\"PUT\", PUTTURL, data=json.dumps(data), headers=headers)\n",
    "    pprint(response.text)"
   ]
  },
  {
   "cell_type": "code",
   "execution_count": 87,
   "metadata": {},
   "outputs": [
    {
     "name": "stdout",
     "output_type": "stream",
     "text": [
      "('{\"documentId\":\"0e884f7c-837f-4c93-9d73-b795e89e8127\",\"data\":{\"callsign\":\"FLYSTAR\",\"country\":\"United '\n",
      " 'Kingdom\",\"iata\":\"5W\",\"icao\":\"AEU\",\"id\":112,\"name\":\"Astraeus\",\"type\":\"airline\"}}')\n"
     ]
    }
   ],
   "source": [
    "GET = f\"/api/rest/v2/namespaces/{NAMESPACE}/collections/{COLLECTION}/0e884f7c-837f-4c93-9d73-b795e89e8127\"\n",
    "GETTURL = URL+GET\n",
    "response = requests.request(\"GET\", GETTURL, headers=headers)\n",
    "pprint(response.text)"
   ]
  },
  {
   "cell_type": "code",
   "execution_count": 35,
   "metadata": {},
   "outputs": [
    {
     "name": "stdout",
     "output_type": "stream",
     "text": [
      "'Unable to create schema for collection'\n",
      "5f84d15b4472b78f9faae7f8\n",
      "'{\"documentId\":\"a0deedbc-cae2-440b-9fe8-5c5378a3bb59\"}'\n",
      "5f84d15b4472b78f9faae7f9\n",
      "'{\"documentId\":\"597f5673-8ba2-4341-9c21-199747e4e6e8\"}'\n",
      "5f84d15b4472b78f9faae7fa\n",
      "'{\"documentId\":\"47b55399-3cee-4992-a8ad-8a38751841dd\"}'\n",
      "5f84d15b4472b78f9faae7fb\n",
      "'{\"documentId\":\"9b7f1a69-cbbe-46e6-9e87-c2b85961f76e\"}'\n",
      "5f84d15b4472b78f9faae7fc\n",
      "'{\"documentId\":\"85decbbf-24c1-4a5a-9a34-3ee7242be472\"}'\n",
      "5f84d15b4472b78f9faae7fd\n",
      "'{\"documentId\":\"d518a4f1-24d5-4294-a69d-47e77c9288cd\"}'\n",
      "5f84d15b4472b78f9faae7fe\n",
      "5f84d15b4472b78f9faae7fe\n"
     ]
    }
   ],
   "source": [
    "COLLECTION = \"mongo_air\"\n",
    "for i in range(8):\n",
    "    if i==0:\n",
    "        for data in aircol.find().limit(1):\n",
    "            last_id=data.pop('_id')\n",
    "            AIRLINE_ID = str(uuid.uuid4())\n",
    "            DOC_ROOT_PATH = f\"/api/rest/v2/namespaces/{NAMESPACE}/collections/{COLLECTION}/{AIRLINE_ID}\"\n",
    "            PUTTURL = URL+DOC_ROOT_PATH\n",
    "            response = requests.request(\"PUT\", PUTTURL, data=json.dumps(data), headers=headers)\n",
    "            pprint(response.text)\n",
    "    else:\n",
    "        for data in aircol.find({'_id': {'$gt': last_id}}).limit(1):\n",
    "            last_id=data.pop('_id')\n",
    "            AIRLINE_ID = str(uuid.uuid4())\n",
    "            DOC_ROOT_PATH = f\"/api/rest/v2/namespaces/{NAMESPACE}/collections/{COLLECTION}/{AIRLINE_ID}\"\n",
    "            PUTTURL = URL+DOC_ROOT_PATH\n",
    "            response = requests.request(\"PUT\", PUTTURL, data=json.dumps(data), headers=headers)\n",
    "            pprint(response.text)\n",
    "    print(last_id)"
   ]
  },
  {
   "cell_type": "code",
   "execution_count": 50,
   "metadata": {},
   "outputs": [
    {
     "name": "stdout",
     "output_type": "stream",
     "text": [
      "None\n",
      "<__main__.XY object at 0x116b54890>\n"
     ]
    }
   ],
   "source": [
    "      data = aircol.find().limit(1)\n",
    "      data.pop('_id')"
   ]
  },
  {
   "cell_type": "code",
   "execution_count": null,
   "metadata": {},
   "outputs": [],
   "source": []
  }
 ],
 "metadata": {
  "kernelspec": {
   "display_name": "Python 3",
   "language": "python",
   "name": "python3"
  },
  "language_info": {
   "codemirror_mode": {
    "name": "ipython",
    "version": 3
   },
   "file_extension": ".py",
   "mimetype": "text/x-python",
   "name": "python",
   "nbconvert_exporter": "python",
   "pygments_lexer": "ipython3",
   "version": "3.7.4"
  }
 },
 "nbformat": 4,
 "nbformat_minor": 4
}
