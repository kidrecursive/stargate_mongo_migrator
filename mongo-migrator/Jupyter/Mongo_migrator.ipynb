{
 "cells": [
  {
   "cell_type": "code",
   "execution_count": 15,
   "metadata": {},
   "outputs": [],
   "source": [
    "from pymongo import MongoClient\n",
    "from pprint import pprint\n",
    "import uuid\n",
    "import requests\n",
    "import json  "
   ]
  },
  {
   "cell_type": "code",
   "execution_count": 16,
   "metadata": {},
   "outputs": [
    {
     "name": "stdout",
     "output_type": "stream",
     "text": [
      "{'_id': ObjectId('5f84d15b4472b78f9faae7f8'), 'id': 10748, 'type': 'airline', 'name': 'Locair', 'iata': 'ZQ', 'icao': 'LOC', 'callsign': 'LOCAIR', 'country': 'United States'}\n",
      "{'_id': ObjectId('5f84d15b4472b78f9faae7f9'), 'id': 10765, 'type': 'airline', 'name': 'SeaPort Airlines', 'iata': 'K5', 'icao': 'SQH', 'callsign': 'SASQUATCH', 'country': 'United States'}\n",
      "{'_id': ObjectId('5f84d15b4472b78f9faae7fa'), 'id': 109, 'type': 'airline', 'name': 'Alaska Central Express', 'iata': 'KO', 'icao': 'AER', 'callsign': 'ACE AIR', 'country': 'United States'}\n",
      "{'_id': ObjectId('5f84d15b4472b78f9faae7fb'), 'id': 109, 'type': 'airline', 'name': 'Alaska Central Express', 'iata': 'KO', 'icao': 'AER', 'callsign': 'ACE AIR', 'country': 'United States'}\n",
      "{'_id': ObjectId('5f84d15b4472b78f9faae7fc'), 'id': 112, 'type': 'airline', 'name': 'Astraeus', 'iata': '5W', 'icao': 'AEU', 'callsign': 'FLYSTAR', 'country': 'United Kingdom'}\n",
      "{'_id': ObjectId('5f84d15b4472b78f9faae7fd'), 'id': 1191, 'type': 'airline', 'name': 'Air Austral', 'iata': 'UU', 'icao': 'REU', 'callsign': 'REUNION', 'country': 'France'}\n",
      "{'_id': ObjectId('5f84d15b4472b78f9faae7fe'), 'id': 1203, 'type': 'airline', 'name': 'Airlinair', 'iata': 'A5', 'icao': 'RLA', 'callsign': 'AIRLINAIR', 'country': 'France'}\n"
     ]
    }
   ],
   "source": [
    "client = MongoClient(host='34.227.105.4:27017',serverSelectionTimeoutMS = 3000)\n",
    "mydb = client[\"stargatedb\"]\n",
    "aircol = mydb[\"airline\"]\n",
    "for x in aircol.find():\n",
    "    print(x)"
   ]
  },
  {
   "cell_type": "code",
   "execution_count": 36,
   "metadata": {},
   "outputs": [
    {
     "name": "stdout",
     "output_type": "stream",
     "text": [
      "{\"authToken\":\"4204c48b-efa6-4ed1-8b70-a70a6e936620\"}\n"
     ]
    }
   ],
   "source": [
    "url = \"https://c72c60e1-d1c1-4730-8d6a-413abce921ff-us-east-1.apps.astra.datastax.com/api/rest/v1/auth\"\n",
    "\n",
    "payload = {\n",
    "    \"username\": \"mongo_migrator\",\n",
    "    \"password\": \"mongo_migrator\"\n",
    "}\n",
    "headers = {\n",
    "    \"accept\": \"*/*\",\n",
    "    \"x-cassandra-request-id\": \"134\",\n",
    "    \"content-type\": \"application/json\"\n",
    "}\n",
    "\n",
    "response = requests.request(\"POST\", url, json=payload, headers=headers)\n",
    "\n",
    "print(response.text)"
   ]
  },
  {
   "cell_type": "code",
   "execution_count": 34,
   "metadata": {},
   "outputs": [
    {
     "name": "stdout",
     "output_type": "stream",
     "text": [
      "'{\"documentId\":\"4b22750e-7906-42ed-a5e1-fa752a3a9f2f\"}'\n"
     ]
    }
   ],
   "source": [
    "headers = {\n",
    "    \"x-cassandra-token\": \"ac679651-e94e-4c2e-a655-3ed828c7ff5e\",\n",
    "    \"content-type\": \"application/json\"\n",
    "}\n",
    "\n",
    "URL = \"https://c72c60e1-d1c1-4730-8d6a-413abce921ff-us-east-1.apps.astra.datastax.com\"\n",
    "COLLECTION = \"mongo_airlines\"\n",
    "NAMESPACE = \"mongo_migrator\"\n",
    "\n",
    "for data in aircol.find().limit(1):\n",
    "    data.pop('_id')\n",
    "    AIRLINE_ID = str(uuid.uuid4())\n",
    "    DOC_ROOT_PATH = f\"/api/rest/v2/namespaces/{NAMESPACE}/collections/{COLLECTION}/{AIRLINE_ID}\"\n",
    "    PUTTURL = URL+DOC_ROOT_PATH\n",
    "    response = requests.request(\"PUT\", PUTTURL, data=json.dumps(data), headers=headers)\n",
    "    pprint(response.text)"
   ]
  },
  {
   "cell_type": "code",
   "execution_count": 87,
   "metadata": {},
   "outputs": [
    {
     "name": "stdout",
     "output_type": "stream",
     "text": [
      "('{\"documentId\":\"0e884f7c-837f-4c93-9d73-b795e89e8127\",\"data\":{\"callsign\":\"FLYSTAR\",\"country\":\"United '\n",
      " 'Kingdom\",\"iata\":\"5W\",\"icao\":\"AEU\",\"id\":112,\"name\":\"Astraeus\",\"type\":\"airline\"}}')\n"
     ]
    }
   ],
   "source": [
    "GET = f\"/api/rest/v2/namespaces/{NAMESPACE}/collections/{COLLECTION}/0e884f7c-837f-4c93-9d73-b795e89e8127\"\n",
    "GETTURL = URL+GET\n",
    "response = requests.request(\"GET\", GETTURL, headers=headers)\n",
    "pprint(response.text)"
   ]
  },
  {
   "cell_type": "code",
   "execution_count": 35,
   "metadata": {},
   "outputs": [
    {
     "name": "stdout",
     "output_type": "stream",
     "text": [
      "'Unable to create schema for collection'\n",
      "5f84d15b4472b78f9faae7f8\n",
      "'{\"documentId\":\"a0deedbc-cae2-440b-9fe8-5c5378a3bb59\"}'\n",
      "5f84d15b4472b78f9faae7f9\n",
      "'{\"documentId\":\"597f5673-8ba2-4341-9c21-199747e4e6e8\"}'\n",
      "5f84d15b4472b78f9faae7fa\n",
      "'{\"documentId\":\"47b55399-3cee-4992-a8ad-8a38751841dd\"}'\n",
      "5f84d15b4472b78f9faae7fb\n",
      "'{\"documentId\":\"9b7f1a69-cbbe-46e6-9e87-c2b85961f76e\"}'\n",
      "5f84d15b4472b78f9faae7fc\n",
      "'{\"documentId\":\"85decbbf-24c1-4a5a-9a34-3ee7242be472\"}'\n",
      "5f84d15b4472b78f9faae7fd\n",
      "'{\"documentId\":\"d518a4f1-24d5-4294-a69d-47e77c9288cd\"}'\n",
      "5f84d15b4472b78f9faae7fe\n",
      "5f84d15b4472b78f9faae7fe\n"
     ]
    }
   ],
   "source": [
    "COLLECTION = \"mongo_air\"\n",
    "for i in range(8):\n",
    "    if i==0:\n",
    "        for data in aircol.find().limit(1):\n",
    "            last_id=data.pop('_id')\n",
    "            AIRLINE_ID = str(uuid.uuid4())\n",
    "            DOC_ROOT_PATH = f\"/api/rest/v2/namespaces/{NAMESPACE}/collections/{COLLECTION}/{AIRLINE_ID}\"\n",
    "            PUTTURL = URL+DOC_ROOT_PATH\n",
    "            response = requests.request(\"PUT\", PUTTURL, data=json.dumps(data), headers=headers)\n",
    "            pprint(response.text)\n",
    "    else:\n",
    "        for data in aircol.find({'_id': {'$gt': last_id}}).limit(1):\n",
    "            last_id=data.pop('_id')\n",
    "            AIRLINE_ID = str(uuid.uuid4())\n",
    "            DOC_ROOT_PATH = f\"/api/rest/v2/namespaces/{NAMESPACE}/collections/{COLLECTION}/{AIRLINE_ID}\"\n",
    "            PUTTURL = URL+DOC_ROOT_PATH\n",
    "            response = requests.request(\"PUT\", PUTTURL, data=json.dumps(data), headers=headers)\n",
    "            pprint(response.text)\n",
    "    print(last_id)"
   ]
  },
  {
   "cell_type": "code",
   "execution_count": 50,
   "metadata": {},
   "outputs": [
    {
     "name": "stdout",
     "output_type": "stream",
     "text": [
      "None\n",
      "<__main__.XY object at 0x116b54890>\n"
     ]
    }
   ],
   "source": [
    "      data = aircol.find().limit(1)\n",
    "      data.pop('_id')"
   ]
  },
  {
   "cell_type": "code",
   "execution_count": null,
   "metadata": {},
   "outputs": [],
   "source": []
  }
 ],
 "metadata": {
  "kernelspec": {
   "display_name": "Python 3",
   "language": "python",
   "name": "python3"
  },
  "language_info": {
   "codemirror_mode": {
    "name": "ipython",
    "version": 3
   },
   "file_extension": ".py",
   "mimetype": "text/x-python",
   "name": "python",
   "nbconvert_exporter": "python",
   "pygments_lexer": "ipython3",
   "version": "3.7.4"
  }
 },
 "nbformat": 4,
 "nbformat_minor": 4
}
