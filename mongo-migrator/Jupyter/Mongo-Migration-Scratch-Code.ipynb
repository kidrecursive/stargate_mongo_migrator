{
 "cells": [
  {
   "cell_type": "code",
   "execution_count": 1,
   "metadata": {},
   "outputs": [],
   "source": [
    "from pymongo import MongoClient\n",
    "from pprint import pprint\n",
    "import uuid"
   ]
  },
  {
   "cell_type": "code",
   "execution_count": 2,
   "metadata": {},
   "outputs": [],
   "source": [
    "client = MongoClient(host='34.227.105.4:27017',serverSelectionTimeoutMS = 3000)"
   ]
  },
  {
   "cell_type": "code",
   "execution_count": 3,
   "metadata": {},
   "outputs": [
    {
     "name": "stdout",
     "output_type": "stream",
     "text": [
      "['admin', 'config', 'local', 'stargatedb']\n"
     ]
    }
   ],
   "source": [
    "print(client.list_database_names())"
   ]
  },
  {
   "cell_type": "code",
   "execution_count": 4,
   "metadata": {},
   "outputs": [],
   "source": [
    "client.drop_database('stargatedb')"
   ]
  },
  {
   "cell_type": "code",
   "execution_count": 5,
   "metadata": {},
   "outputs": [
    {
     "name": "stdout",
     "output_type": "stream",
     "text": [
      "Database is created !!\n"
     ]
    }
   ],
   "source": [
    "db = client['stargatedb'] \n",
    "print(\"Database is created !!\") "
   ]
  },
  {
   "cell_type": "code",
   "execution_count": 6,
   "metadata": {},
   "outputs": [
    {
     "name": "stdout",
     "output_type": "stream",
     "text": [
      "['admin', 'config', 'local']\n"
     ]
    }
   ],
   "source": [
    "print(client.list_database_names())"
   ]
  },
  {
   "cell_type": "code",
   "execution_count": 7,
   "metadata": {},
   "outputs": [],
   "source": [
    "mydb = client[\"stargatedb\"]\n",
    "mycol = mydb[\"myCollection\"]"
   ]
  },
  {
   "cell_type": "code",
   "execution_count": 8,
   "metadata": {},
   "outputs": [],
   "source": [
    "for x in mycol.find():\n",
    "    print(x)"
   ]
  },
  {
   "cell_type": "code",
   "execution_count": 9,
   "metadata": {},
   "outputs": [],
   "source": [
    "mylist = [\n",
    "  {\"id\":10,\"type\":\"airline\",\"name\":\"40-Mile Air\",\"iata\":\"Q5\",\"icao\":\"MLA\",\"callsign\":\"MILE-AIR\",\"country\":\"United States\"},\n",
    "  {\"id\":10123,\"type\":\"airline\",\"name\":\"Texas Wings\",\"iata\":\"TQ\",\"icao\":\"TXW\",\"callsign\":\"TXW\",\"country\":\"United States\"},\n",
    "  {\"id\":10226,\"type\":\"airline\",\"name\":\"Atifly\",\"iata\":\"A1\",\"icao\":\"A1F\",\"callsign\":\"atifly\",\"country\":\"United States\"},\n",
    "  {\"id\":10642,\"type\":\"airline\",\"name\":\"Jc royal.britannica\",\"iata\":\"\",\"icao\":\"JRB\",\"callsign\":\"\",\"country\":\"United Kingdom\"},\n",
    "  {\"id\":10748,\"type\":\"airline\",\"name\":\"Locair\",\"iata\":\"ZQ\",\"icao\":\"LOC\",\"callsign\":\"LOCAIR\",\"country\":\"United States\"},\n",
    "  {\"id\":10765,\"type\":\"airline\",\"name\":\"SeaPort Airlines\",\"iata\":\"K5\",\"icao\":\"SQH\",\"callsign\":\"SASQUATCH\",\"country\":\"United States\"},\n",
    "  {\"id\":109,\"type\":\"airline\",\"name\":\"Alaska Central Express\",\"iata\":\"KO\",\"icao\":\"AER\",\"callsign\":\"ACE AIR\",\"country\":\"United States\"},\n",
    "  {\"id\":109,\"type\":\"airline\",\"name\":\"Alaska Central Express\",\"iata\":\"KO\",\"icao\":\"AER\",\"callsign\":\"ACE AIR\",\"country\":\"United States\"},\n",
    "  {\"id\":112,\"type\":\"airline\",\"name\":\"Astraeus\",\"iata\":\"5W\",\"icao\":\"AEU\",\"callsign\":\"FLYSTAR\",\"country\":\"United Kingdom\"},\n",
    "  {\"id\":1191,\"type\":\"airline\",\"name\":\"Air Austral\",\"iata\":\"UU\",\"icao\":\"REU\",\"callsign\":\"REUNION\",\"country\":\"France\"},\n",
    "  {\"id\":1203,\"type\":\"airline\",\"name\":\"Airlinair\",\"iata\":\"A5\",\"icao\":\"RLA\",\"callsign\":\"AIRLINAIR\",\"country\":\"France\"},\n",
    "  {\"id\":1355,\"type\":\"airline\",\"name\":\"British Airways\",\"iata\":\"BA\",\"icao\":\"BAW\",\"callsign\":\"SPEEDBIRD\",\"country\":\"United Kingdom\"},\n",
    "  {\"id\":13633,\"type\":\"airline\",\"name\":\"PanAm World Airways\",\"iata\":\"WQ\",\"icao\":\"PQW\",\"callsign\":\"\",\"country\":\"United States\"},\n",
    "  {\"id\":137,\"type\":\"airline\",\"name\":\"Air France\",\"iata\":\"AF\",\"icao\":\"AFR\",\"callsign\":\"AIRFRANS\",\"country\":\"France\"},\n",
    "  {\"id\":1350,\"type\":\"airport\",\"airportname\":\"Boutheon\",\"city\":\"St-Etienne\",\"country\":\"France\",\"faa\":\"EBU\",\"icao\":\"LFMH\",\"tz\":\"Europe/Paris\",\"geo\":{\"lat\":45.540554,\"lon\":4.296389,\"alt\":1325.0}},\n",
    "  {\"id\":5160,\"type\":\"airline\",\"name\":\"Trans States Airlines\",\"iata\":\"AX\",\"icao\":\"LOF\",\"callsign\":\"WATERSKI\",\"country\":\"United States\"},\n",
    "  {\"id\":3935,\"type\":\"airline\",\"name\":\"Peninsula Airways\",\"iata\":\"KS\",\"icao\":\"PEN\",\"callsign\":\"PENINSULA\",\"country\":\"United States\"},\n",
    "  {\"id\":1908,\"type\":\"airline\",\"name\":\"Corsairfly\",\"iata\":\"SS\",\"icao\":\"CRL\",\"callsign\":\"CORSAIR\",\"country\":\"France\"},\n",
    "  {\"id\":1324,\"type\":\"airport\",\"airportname\":\"Campo Dell Oro\",\"city\":\"Ajaccio\",\"country\":\"France\",\"faa\":\"AJA\",\"icao\":\"LFKJ\",\"tz\":\"Europe/Paris\",\"geo\":{\"lat\":41.923637,\"lon\":8.802917,\"alt\":18.0}},\n",
    "  {\"id\":1370,\"type\":\"airport\",\"airportname\":\"Fauville\",\"city\":\"Evreux\",\"country\":\"France\",\"faa\":\"\",\"icao\":\"LFOE\",\"tz\":\"Europe/Paris\",\"geo\":{\"lat\":49.028669,\"lon\":1.219864,\"alt\":464.0}},\n",
    "  {\"id\":3620,\"type\":\"airport\",\"airportname\":\"Deadhorse\",\"city\":\"Deadhorse\",\"country\":\"United States\",\"faa\":\"SCC\",\"icao\":\"PASC\",\"tz\":\"America/Anchorage\",\"geo\":{\"lat\":70.19475,\"lon\":-148.465167,\"alt\":64.0}},\n",
    "  {\"id\":3551,\"type\":\"airport\",\"airportname\":\"Millinocket Muni\",\"city\":\"Millinocket\",\"country\":\"United States\",\"faa\":\"MLT\",\"icao\":\"KMLT\",\"tz\":\"America/New_York\",\"geo\":{\"lat\":45.647836,\"lon\":-68.685561,\"alt\":408.0}},\n",
    "  {\"id\":3743,\"type\":\"airport\",\"airportname\":\"Four Corners Rgnl\",\"city\":\"Farmington\",\"country\":\"United States\",\"faa\":\"FMN\",\"icao\":\"KFMN\",\"tz\":\"America/Denver\",\"geo\":{\"lat\":36.74125,\"lon\":-108.229944,\"alt\":5506.0}},\n",
    "  {\"id\":3436,\"type\":\"airport\",\"airportname\":\"Twentynine Palms Eaf\",\"city\":\"Twenty Nine Palms\",\"country\":\"United States\",\"faa\":\"NXP\",\"icao\":\"KNXP\",\"tz\":\"America/Los_Angeles\",\"geo\":{\"lat\":34.296161,\"lon\":-116.162203,\"alt\":2051.0}},\n",
    "  {\"id\":3733,\"type\":\"airport\",\"airportname\":\"Shaw Afb\",\"city\":\"Sumter\",\"country\":\"United States\",\"faa\":\"SSC\",\"icao\":\"KSSC\",\"tz\":\"America/New_York\",\"geo\":{\"lat\":33.972719,\"lon\":-80.470564,\"alt\":242.0}},\n",
    "  {\"id\":3803,\"type\":\"airport\",\"airportname\":\"Willow Grove Nas Jrb\",\"city\":\"Willow Grove\",\"country\":\"United States\",\"faa\":\"NXX\",\"icao\":\"KNXX\",\"tz\":\"America/New_York\",\"geo\":{\"lat\":40.199833,\"lon\":-75.148167,\"alt\":358.0}},\n",
    "  {\"id\":4064,\"type\":\"airport\",\"airportname\":\"St George Muni\",\"city\":\"Saint George\",\"country\":\"United States\",\"faa\":\"SGU\",\"icao\":\"KSGU\",\"tz\":\"America/Denver\",\"geo\":{\"lat\":37.090583,\"lon\":-113.593056,\"alt\":2941.0}}\n",
    "]"
   ]
  },
  {
   "cell_type": "code",
   "execution_count": 10,
   "metadata": {},
   "outputs": [],
   "source": [
    "aircol = mydb['airline']"
   ]
  },
  {
   "cell_type": "code",
   "execution_count": 11,
   "metadata": {},
   "outputs": [],
   "source": [
    "x = aircol.insert_many(mylist)"
   ]
  },
  {
   "cell_type": "code",
   "execution_count": 12,
   "metadata": {},
   "outputs": [
    {
     "name": "stdout",
     "output_type": "stream",
     "text": [
      "{'_id': ObjectId('5f861a38991757be027c9395'), 'id': 10, 'type': 'airline', 'name': '40-Mile Air', 'iata': 'Q5', 'icao': 'MLA', 'callsign': 'MILE-AIR', 'country': 'United States'}\n",
      "{'_id': ObjectId('5f861a38991757be027c9396'), 'id': 10123, 'type': 'airline', 'name': 'Texas Wings', 'iata': 'TQ', 'icao': 'TXW', 'callsign': 'TXW', 'country': 'United States'}\n",
      "{'_id': ObjectId('5f861a38991757be027c9397'), 'id': 10226, 'type': 'airline', 'name': 'Atifly', 'iata': 'A1', 'icao': 'A1F', 'callsign': 'atifly', 'country': 'United States'}\n",
      "{'_id': ObjectId('5f861a38991757be027c9398'), 'id': 10642, 'type': 'airline', 'name': 'Jc royal.britannica', 'iata': '', 'icao': 'JRB', 'callsign': '', 'country': 'United Kingdom'}\n",
      "{'_id': ObjectId('5f861a38991757be027c9399'), 'id': 10748, 'type': 'airline', 'name': 'Locair', 'iata': 'ZQ', 'icao': 'LOC', 'callsign': 'LOCAIR', 'country': 'United States'}\n",
      "{'_id': ObjectId('5f861a38991757be027c939a'), 'id': 10765, 'type': 'airline', 'name': 'SeaPort Airlines', 'iata': 'K5', 'icao': 'SQH', 'callsign': 'SASQUATCH', 'country': 'United States'}\n",
      "{'_id': ObjectId('5f861a38991757be027c939b'), 'id': 109, 'type': 'airline', 'name': 'Alaska Central Express', 'iata': 'KO', 'icao': 'AER', 'callsign': 'ACE AIR', 'country': 'United States'}\n",
      "{'_id': ObjectId('5f861a38991757be027c939c'), 'id': 109, 'type': 'airline', 'name': 'Alaska Central Express', 'iata': 'KO', 'icao': 'AER', 'callsign': 'ACE AIR', 'country': 'United States'}\n",
      "{'_id': ObjectId('5f861a38991757be027c939d'), 'id': 112, 'type': 'airline', 'name': 'Astraeus', 'iata': '5W', 'icao': 'AEU', 'callsign': 'FLYSTAR', 'country': 'United Kingdom'}\n",
      "{'_id': ObjectId('5f861a38991757be027c939e'), 'id': 1191, 'type': 'airline', 'name': 'Air Austral', 'iata': 'UU', 'icao': 'REU', 'callsign': 'REUNION', 'country': 'France'}\n",
      "{'_id': ObjectId('5f861a38991757be027c939f'), 'id': 1203, 'type': 'airline', 'name': 'Airlinair', 'iata': 'A5', 'icao': 'RLA', 'callsign': 'AIRLINAIR', 'country': 'France'}\n",
      "{'_id': ObjectId('5f861a38991757be027c93a0'), 'id': 1355, 'type': 'airline', 'name': 'British Airways', 'iata': 'BA', 'icao': 'BAW', 'callsign': 'SPEEDBIRD', 'country': 'United Kingdom'}\n",
      "{'_id': ObjectId('5f861a38991757be027c93a1'), 'id': 13633, 'type': 'airline', 'name': 'PanAm World Airways', 'iata': 'WQ', 'icao': 'PQW', 'callsign': '', 'country': 'United States'}\n",
      "{'_id': ObjectId('5f861a38991757be027c93a2'), 'id': 137, 'type': 'airline', 'name': 'Air France', 'iata': 'AF', 'icao': 'AFR', 'callsign': 'AIRFRANS', 'country': 'France'}\n",
      "{'_id': ObjectId('5f861a38991757be027c93a3'), 'id': 1350, 'type': 'airport', 'airportname': 'Boutheon', 'city': 'St-Etienne', 'country': 'France', 'faa': 'EBU', 'icao': 'LFMH', 'tz': 'Europe/Paris', 'geo': {'lat': 45.540554, 'lon': 4.296389, 'alt': 1325.0}}\n",
      "{'_id': ObjectId('5f861a38991757be027c93a4'), 'id': 5160, 'type': 'airline', 'name': 'Trans States Airlines', 'iata': 'AX', 'icao': 'LOF', 'callsign': 'WATERSKI', 'country': 'United States'}\n",
      "{'_id': ObjectId('5f861a38991757be027c93a5'), 'id': 3935, 'type': 'airline', 'name': 'Peninsula Airways', 'iata': 'KS', 'icao': 'PEN', 'callsign': 'PENINSULA', 'country': 'United States'}\n",
      "{'_id': ObjectId('5f861a38991757be027c93a6'), 'id': 1908, 'type': 'airline', 'name': 'Corsairfly', 'iata': 'SS', 'icao': 'CRL', 'callsign': 'CORSAIR', 'country': 'France'}\n",
      "{'_id': ObjectId('5f861a38991757be027c93a7'), 'id': 1324, 'type': 'airport', 'airportname': 'Campo Dell Oro', 'city': 'Ajaccio', 'country': 'France', 'faa': 'AJA', 'icao': 'LFKJ', 'tz': 'Europe/Paris', 'geo': {'lat': 41.923637, 'lon': 8.802917, 'alt': 18.0}}\n",
      "{'_id': ObjectId('5f861a38991757be027c93a8'), 'id': 1370, 'type': 'airport', 'airportname': 'Fauville', 'city': 'Evreux', 'country': 'France', 'faa': '', 'icao': 'LFOE', 'tz': 'Europe/Paris', 'geo': {'lat': 49.028669, 'lon': 1.219864, 'alt': 464.0}}\n",
      "{'_id': ObjectId('5f861a38991757be027c93a9'), 'id': 3620, 'type': 'airport', 'airportname': 'Deadhorse', 'city': 'Deadhorse', 'country': 'United States', 'faa': 'SCC', 'icao': 'PASC', 'tz': 'America/Anchorage', 'geo': {'lat': 70.19475, 'lon': -148.465167, 'alt': 64.0}}\n",
      "{'_id': ObjectId('5f861a38991757be027c93aa'), 'id': 3551, 'type': 'airport', 'airportname': 'Millinocket Muni', 'city': 'Millinocket', 'country': 'United States', 'faa': 'MLT', 'icao': 'KMLT', 'tz': 'America/New_York', 'geo': {'lat': 45.647836, 'lon': -68.685561, 'alt': 408.0}}\n",
      "{'_id': ObjectId('5f861a38991757be027c93ab'), 'id': 3743, 'type': 'airport', 'airportname': 'Four Corners Rgnl', 'city': 'Farmington', 'country': 'United States', 'faa': 'FMN', 'icao': 'KFMN', 'tz': 'America/Denver', 'geo': {'lat': 36.74125, 'lon': -108.229944, 'alt': 5506.0}}\n",
      "{'_id': ObjectId('5f861a38991757be027c93ac'), 'id': 3436, 'type': 'airport', 'airportname': 'Twentynine Palms Eaf', 'city': 'Twenty Nine Palms', 'country': 'United States', 'faa': 'NXP', 'icao': 'KNXP', 'tz': 'America/Los_Angeles', 'geo': {'lat': 34.296161, 'lon': -116.162203, 'alt': 2051.0}}\n",
      "{'_id': ObjectId('5f861a38991757be027c93ad'), 'id': 3733, 'type': 'airport', 'airportname': 'Shaw Afb', 'city': 'Sumter', 'country': 'United States', 'faa': 'SSC', 'icao': 'KSSC', 'tz': 'America/New_York', 'geo': {'lat': 33.972719, 'lon': -80.470564, 'alt': 242.0}}\n",
      "{'_id': ObjectId('5f861a38991757be027c93ae'), 'id': 3803, 'type': 'airport', 'airportname': 'Willow Grove Nas Jrb', 'city': 'Willow Grove', 'country': 'United States', 'faa': 'NXX', 'icao': 'KNXX', 'tz': 'America/New_York', 'geo': {'lat': 40.199833, 'lon': -75.148167, 'alt': 358.0}}\n",
      "{'_id': ObjectId('5f861a38991757be027c93af'), 'id': 4064, 'type': 'airport', 'airportname': 'St George Muni', 'city': 'Saint George', 'country': 'United States', 'faa': 'SGU', 'icao': 'KSGU', 'tz': 'America/Denver', 'geo': {'lat': 37.090583, 'lon': -113.593056, 'alt': 2941.0}}\n"
     ]
    }
   ],
   "source": [
    "for x in aircol.find():\n",
    "    print(x)"
   ]
  },
  {
   "cell_type": "code",
   "execution_count": null,
   "metadata": {},
   "outputs": [],
   "source": [
    "import requests\n",
    "\n",
    "url = \"https://c72c60e1-d1c1-4730-8d6a-413abce921ff-us-east-1.apps.astra.datastax.com/api/rest/v1/auth\"\n",
    "\n",
    "payload = {\n",
    "    \"username\": \"mongo_migrator\",\n",
    "    \"password\": \"mongo_migrator\"\n",
    "}\n",
    "headers = {\n",
    "    \"accept\": \"*/*\",\n",
    "    \"x-cassandra-request-id\": \"134\",\n",
    "    \"content-type\": \"application/json\"\n",
    "}\n",
    "\n",
    "response = requests.request(\"POST\", url, json=payload, headers=headers)\n",
    "\n",
    "print(response.text)"
   ]
  },
  {
   "cell_type": "code",
   "execution_count": null,
   "metadata": {},
   "outputs": [],
   "source": [
    "#{\"id\",\"type\"\"name\",\"iata\",\"icao\",\"callsign\",\"country\"}"
   ]
  },
  {
   "cell_type": "code",
   "execution_count": null,
   "metadata": {},
   "outputs": [],
   "source": [
    "posturl = \"https://c72c60e1-d1c1-4730-8d6a-413abce921ff-us-east-1.apps.astra.datastax.com/api/rest/v2/namespaces/mongo_migrator/collections/airline/12\"\n",
    "headers = {\n",
    "    \"accept\": \"application/json\",\n",
    "    \"x-cassandra-token\": \"b96131ae-cd7f-4675-b1bb-d2d186eb90c7\",\n",
    "    \"x-cassandra-request-id\": '1',\n",
    "    \"content-type\": \"application/json\"\n",
    "}\n",
    "for x in aircol.find({}):\n",
    "    payload = {\"columns\": [\n",
    "        {\n",
    "            \"name\": \"id\",\n",
    "            \"value\": x['id']\n",
    "        },\n",
    "        {\n",
    "            \"name\": \"type\",\n",
    "            \"value\": x['type']\n",
    "        },\n",
    "        {\n",
    "            \"name\": \"name\",\n",
    "            \"value\": x['name']\n",
    "        },\n",
    "        {\n",
    "            \"name\": \"iata\",\n",
    "            \"value\": x['iata']\n",
    "        },\n",
    "        {\n",
    "            \"name\": \"icao\",\n",
    "            \"value\": x['icao']\n",
    "        },\n",
    "        {\n",
    "            \"name\": \"callsign\",\n",
    "            \"value\": x['callsign']\n",
    "        },\n",
    "        {\n",
    "            \"name\": \"country\",\n",
    "            \"value\": x['country']\n",
    "        }\n",
    "    ]}\n",
    "    response = requests.request(\"POST\", posturl, json=payload, headers=headers)\n",
    "    print(response.text)"
   ]
  },
  {
   "cell_type": "code",
   "execution_count": null,
   "metadata": {},
   "outputs": [],
   "source": [
    "data = {'id': 10, 'type': 'airline', 'name': '40-Mile Air', 'iata': 'Q5', 'icao': 'MLA', 'callsign': 'MILE-AIR', 'country': 'United States'}"
   ]
  },
  {
   "cell_type": "code",
   "execution_count": null,
   "metadata": {},
   "outputs": [],
   "source": [
    "posturl = \"https://c72c60e1-d1c1-4730-8d6a-413abce921ff-us-east-1.apps.astra.datastax.com/api/rest/v2/namespaces/mongo-migrator/collections/airline1/12\"\n",
    "headers = {\n",
    "    \"accept\": \"application/json\",\n",
    "    \"x-cassandra-token\": \"b96131ae-cd7f-4675-b1bb-d2d186eb90c7\",\n",
    "    \"x-cassandra-request-id\": '12',\n",
    "    \"content-type\": \"application/json\"\n",
    "}\n",
    "response = requests.request(\"POST\", posturl, json=data1, headers=headers)\n",
    "print(response.text)"
   ]
  },
  {
   "cell_type": "code",
   "execution_count": null,
   "metadata": {},
   "outputs": [],
   "source": [
    "data1 = {\n",
    "  \"title\": \"Hello World\",\n",
    "  \"author\": {\n",
    "    \"name\": \"CRW\",\n",
    "    \"social\": {\n",
    "      \"foo-bar-789\": {\n",
    "        \"followers\": 1,\n",
    "        \"likes\": 7\n",
    "      }\n",
    "    }\n",
    "  }\n",
    "}"
   ]
  },
  {
   "cell_type": "code",
   "execution_count": null,
   "metadata": {},
   "outputs": [],
   "source": [
    "data1"
   ]
  },
  {
   "cell_type": "code",
   "execution_count": null,
   "metadata": {},
   "outputs": [],
   "source": []
  }
 ],
 "metadata": {
  "kernelspec": {
   "display_name": "Python 3",
   "language": "python",
   "name": "python3"
  },
  "language_info": {
   "codemirror_mode": {
    "name": "ipython",
    "version": 3
   },
   "file_extension": ".py",
   "mimetype": "text/x-python",
   "name": "python",
   "nbconvert_exporter": "python",
   "pygments_lexer": "ipython3",
   "version": "3.7.4"
  }
 },
 "nbformat": 4,
 "nbformat_minor": 4
}
